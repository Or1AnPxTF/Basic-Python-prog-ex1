{
 "cells": [
  {
   "cell_type": "markdown",
   "metadata": {},
   "source": [
    "## Python Basic Programming Exercises"
   ]
  },
  {
   "cell_type": "raw",
   "metadata": {},
   "source": [
    "Q1: What is the output of following expression\n",
    "    5 + 4 * 9 % (3 + 1) / 6 - 1"
   ]
  },
  {
   "cell_type": "code",
   "execution_count": 1,
   "metadata": {},
   "outputs": [
    {
     "name": "stdout",
     "output_type": "stream",
     "text": [
      "4.0\n"
     ]
    }
   ],
   "source": [
    "result = 5 + 4 * 9 % (3 + 1) / 6 - 1\n",
    "print(result)"
   ]
  },
  {
   "cell_type": "raw",
   "metadata": {},
   "source": [
    "Q2: Write a program to check if a Number is Odd or Even. Take number as a input from user at runtime."
   ]
  },
  {
   "cell_type": "code",
   "execution_count": 2,
   "metadata": {},
   "outputs": [
    {
     "name": "stdout",
     "output_type": "stream",
     "text": [
      "9 is odd\n"
     ]
    }
   ],
   "source": [
    "# Get the number from the user\n",
    "num = int(input(\"Enter a number: \"))\n",
    "\n",
    "# Check if the number is odd or even\n",
    "if num % 2 == 0:\n",
    "    print(num, \"is even\")\n",
    "else:\n",
    "    print(num, \"is odd\")"
   ]
  },
  {
   "cell_type": "raw",
   "metadata": {},
   "source": [
    "Q3: Write a program to display the multiplication table by taking a number as input. \n",
    "    [Hint : Use print statement inside of a loop]"
   ]
  },
  {
   "cell_type": "code",
   "execution_count": 3,
   "metadata": {},
   "outputs": [
    {
     "name": "stdout",
     "output_type": "stream",
     "text": [
      "24 x 1 = 24\n",
      "24 x 2 = 48\n",
      "24 x 3 = 72\n",
      "24 x 4 = 96\n",
      "24 x 5 = 120\n",
      "24 x 6 = 144\n",
      "24 x 7 = 168\n",
      "24 x 8 = 192\n",
      "24 x 9 = 216\n",
      "24 x 10 = 240\n"
     ]
    }
   ],
   "source": [
    "# Get the number from the user\n",
    "num = int(input(\"Enter a number: \"))\n",
    "\n",
    "# Print the multiplication table for the number\n",
    "for i in range(1, 11):\n",
    "    print(num, \"x\", i, \"=\", num * i)"
   ]
  },
  {
   "cell_type": "raw",
   "metadata": {},
   "source": [
    "Q4: Write a program which will find all numbers between 2000 and 3200 which are divisible by 7 \n",
    "    but are not a multiple of 5.\n",
    " \n",
    "Note: The numbers obtained should be printed in a comma-separated sequence on a single line."
   ]
  },
  {
   "cell_type": "code",
   "execution_count": 4,
   "metadata": {},
   "outputs": [
    {
     "name": "stdout",
     "output_type": "stream",
     "text": [
      "2002,2009,2016,2023,2037,2044,2051,2058,2072,2079,2086,2093,2107,2114,2121,2128,2142,2149,2156,2163,2177,2184,2191,2198,2212,2219,2226,2233,2247,2254,2261,2268,2282,2289,2296,2303,2317,2324,2331,2338,2352,2359,2366,2373,2387,2394,2401,2408,2422,2429,2436,2443,2457,2464,2471,2478,2492,2499,2506,2513,2527,2534,2541,2548,2562,2569,2576,2583,2597,2604,2611,2618,2632,2639,2646,2653,2667,2674,2681,2688,2702,2709,2716,2723,2737,2744,2751,2758,2772,2779,2786,2793,2807,2814,2821,2828,2842,2849,2856,2863,2877,2884,2891,2898,2912,2919,2926,2933,2947,2954,2961,2968,2982,2989,2996,3003,3017,3024,3031,3038,3052,3059,3066,3073,3087,3094,3101,3108,3122,3129,3136,3143,3157,3164,3171,3178,3192,3199\n"
     ]
    }
   ],
   "source": [
    "# Initialize the list to store the numbers\n",
    "numbers = []\n",
    "\n",
    "# Iterate through the numbers from 2000 to 3200\n",
    "for i in range(2000, 3201):\n",
    "    # Check if the number is divisible by 7 and not a multiple of 5\n",
    "    if i % 7 == 0 and i % 5 != 0:\n",
    "        # Add the number to the list\n",
    "        numbers.append(str(i))\n",
    "\n",
    "# Print the numbers in a comma-separated sequence on a single line\n",
    "print(\",\".join(numbers))"
   ]
  },
  {
   "cell_type": "raw",
   "metadata": {},
   "source": [
    "Q5: Count the elements of each datatype inside the list and display in output\n",
    "    [2, 3, 'Py', '10', 1, 'SQL', 5.5, True, 3, 'John', None, 7]    "
   ]
  },
  {
   "cell_type": "code",
   "execution_count": 5,
   "metadata": {},
   "outputs": [
    {
     "name": "stdout",
     "output_type": "stream",
     "text": [
      "{'int': 5, 'str': 4, 'float': 1, 'bool': 1, 'None': 1}\n"
     ]
    }
   ],
   "source": [
    "# Initialize an empty dictionary to store the count of each datatype\n",
    "count_dict = {}\n",
    "\n",
    "# Initialize an empty list with the given elements\n",
    "my_list = [2, 3, 'Py', '10', 1, 'SQL', 5.5, True, 3, 'John', None, 7]\n",
    "\n",
    "# Iterate through the elements in the list\n",
    "for element in my_list:\n",
    "    # Check the datatype of the element\n",
    "    if type(element) == int:\n",
    "        # If the element is an integer, increment the count in the dictionary\n",
    "        if 'int' not in count_dict:\n",
    "            count_dict['int'] = 1\n",
    "        else:\n",
    "            count_dict['int'] += 1\n",
    "    elif type(element) == str:\n",
    "        # If the element is a string, increment the count in the dictionary\n",
    "        if 'str' not in count_dict:\n",
    "            count_dict['str'] = 1\n",
    "        else:\n",
    "            count_dict['str'] += 1\n",
    "    elif type(element) == float:\n",
    "        # If the element is a float, increment the count in the dictionary\n",
    "        if 'float' not in count_dict:\n",
    "            count_dict['float'] = 1\n",
    "        else:\n",
    "            count_dict['float'] += 1\n",
    "    elif type(element) == bool:\n",
    "        # If the element is a boolean, increment the count in the dictionary\n",
    "        if 'bool' not in count_dict:\n",
    "            count_dict['bool'] = 1\n",
    "        else:\n",
    "            count_dict['bool'] += 1\n",
    "    elif element is None:\n",
    "        # If the element is None, increment the count in the dictionary\n",
    "        if 'None' not in count_dict:\n",
    "            count_dict['None'] = 1\n",
    "        else:\n",
    "            count_dict['None'] += 1\n",
    "\n",
    "# Print the count of each datatype in the dictionary\n",
    "print(count_dict)"
   ]
  },
  {
   "cell_type": "raw",
   "metadata": {},
   "source": [
    "Q6: Add all values from the list with numeric datatypes \n",
    "    [2, 3, 'Py', '10', 1, 'SQL', 5.5, True, 3, 'John', None, 7] "
   ]
  },
  {
   "cell_type": "code",
   "execution_count": 6,
   "metadata": {},
   "outputs": [
    {
     "name": "stdout",
     "output_type": "stream",
     "text": [
      "22.5\n"
     ]
    }
   ],
   "source": [
    "# Initialize an empty list with the given elements\n",
    "my_list = [2, 3, 'Py', '10', 1, 'SQL', 5.5, True, 3, 'John', None, 7]\n",
    "\n",
    "# Initialize a variable to store the sum of the numeric values\n",
    "sum_numeric_values = 0\n",
    "\n",
    "# Iterate through the elements in the list\n",
    "for element in my_list:\n",
    "    # Check if the element is a number\n",
    "    if isinstance(element, (int, float)):\n",
    "        # If the element is a number, add it to the sum of numeric values\n",
    "        sum_numeric_values += element\n",
    "\n",
    "# Print the sum of numeric values\n",
    "print(sum_numeric_values)"
   ]
  },
  {
   "cell_type": "raw",
   "metadata": {},
   "source": [
    "Q7: Concat all str datatypes with hyphen as a delimiter\n",
    "    [2, 3, 'Py', '10', 1, 'SQL', 5.5, True, 3, 'John', None, 7] "
   ]
  },
  {
   "cell_type": "code",
   "execution_count": 7,
   "metadata": {},
   "outputs": [
    {
     "name": "stdout",
     "output_type": "stream",
     "text": [
      "Py-10-SQL-John\n"
     ]
    }
   ],
   "source": [
    "# Initialize an empty list with the given elements\n",
    "my_list = [2, 3, 'Py', '10', 1, 'SQL', 5.5, True, 3, 'John', None, 7]\n",
    "\n",
    "# Initialize an empty string to store the concatenated string values\n",
    "concat_str_values = ''\n",
    "\n",
    "# Iterate through the elements in the list\n",
    "for element in my_list:\n",
    "    # Check if the element is a string\n",
    "    if isinstance(element, str):\n",
    "        # If the element is a string, append it to the concatenated string values\n",
    "        # with a hyphen as a delimiter\n",
    "        if concat_str_values:\n",
    "            concat_str_values += '-'\n",
    "        concat_str_values += element\n",
    "\n",
    "# Print the concatenated string values\n",
    "print(concat_str_values)"
   ]
  },
  {
   "cell_type": "raw",
   "metadata": {},
   "source": [
    "Q8: Write a UDF that takes list as input and returns sum of all numbers \n",
    "    (exclude bool) and count of all str \n",
    "    [2, 3, 'Py', '10', 1, 'SQL', 5.5, True, 3, 'John', None, 7] \n",
    "    \n",
    "Hint:\n",
    "-----\n",
    "def my_func:\n",
    "    # your code\n",
    "        \n",
    "my_func(l1)\n",
    "# output --> {'Sum': xxx, 'Count_of_Strs': xxx}"
   ]
  },
  {
   "cell_type": "code",
   "execution_count": 8,
   "metadata": {},
   "outputs": [
    {
     "data": {
      "text/plain": [
       "{'sum of all numbers (exclude bool)': 21.5, 'count of all str': 4}"
      ]
     },
     "execution_count": 8,
     "metadata": {},
     "output_type": "execute_result"
    }
   ],
   "source": [
    "# Declaring list\n",
    "list1 = [2, 3, 'Py', '10', 1, 'SQL', 5.5, True, 3, 'John', None, 7]\n",
    "\n",
    "def my_func(l):\n",
    "    dict1 = {}\n",
    "     \n",
    "    dict1['sum of all numbers (exclude bool)'] = sum([float(i) for i in l if type(i)== int or type(i)== float])\n",
    "    dict1['count of all str'] = len([str(i) for i in l if type(i)== str])\n",
    "    return dict1\n",
    "\n",
    "my_func(list1)"
   ]
  },
  {
   "cell_type": "raw",
   "metadata": {},
   "source": [
    "Q9: Get only odd numbers from the following list and store the numbers in new list\n",
    "    li = [5, 7, 22, 97, 54, 62, 77, 23, 73, 61]\n",
    "\n",
    "    i. Use loops to get the answer\n",
    "   ii. Use list comprehensions\n",
    "  iii. Use lambda function with filter"
   ]
  },
  {
   "cell_type": "code",
   "execution_count": 9,
   "metadata": {},
   "outputs": [
    {
     "name": "stdout",
     "output_type": "stream",
     "text": [
      "[5, 7, 97, 77, 23, 73, 61]\n"
     ]
    }
   ],
   "source": [
    "li = [5, 7, 22, 97, 54, 62, 77, 23, 73, 61]\n",
    "odd_numbers = []\n",
    "\n",
    "for num in li:\n",
    "    if num % 2 != 0:\n",
    "        odd_numbers.append(num)\n",
    "\n",
    "print(odd_numbers)"
   ]
  },
  {
   "cell_type": "raw",
   "metadata": {},
   "source": [
    "Q10: Write a UDF to return the descriptives [sum, count, min, mean, max] for a list of n number of input \n",
    "    numbers."
   ]
  },
  {
   "cell_type": "code",
   "execution_count": 1,
   "metadata": {},
   "outputs": [
    {
     "data": {
      "text/plain": [
       "27.8"
      ]
     },
     "execution_count": 1,
     "metadata": {},
     "output_type": "execute_result"
    }
   ],
   "source": [
    "from statistics import mean\n",
    "def my_func(l1,aggtype):\n",
    "    aggtype = aggtype.lower()\n",
    "    l1 = [i if str(i).isnumeric() else 0 for i in l1]\n",
    "    if aggtype == 'sum':\n",
    "        result = 0\n",
    "        for i in l1:\n",
    "            result = result + i\n",
    "        return result\n",
    "        if aggtype == 'count':\n",
    "            result = len(l1)\n",
    "        return result\n",
    "    \n",
    "    \n",
    "    if aggtype == 'max':\n",
    "        result = max(l1)\n",
    "        return result\n",
    "    \n",
    "    if aggtype == 'min':\n",
    "        result = min(l1)\n",
    "        return result\n",
    "    \n",
    "    if aggtype == 'mean':\n",
    "        result = mean(l1)\n",
    "        return result\n",
    "    \n",
    "    \n",
    "my_func([1,26,31,3,78],'mean')\n",
    "\n"
   ]
  },
  {
   "cell_type": "raw",
   "metadata": {},
   "source": [
    "Q11: Write an udf to calculate the area of different shapes\n",
    "\n",
    "Take shape and dimensions as arguments to udf as follows : \n",
    "\n",
    "1. square which has side\n",
    "2. rectangle which has length and width\n",
    "3. circle which has radius\n",
    "\n",
    "The shape should be a positional argument and it's dimensions are taken as kwargs\n",
    "\n",
    "Perform proper validation for the user inputs and then calculate area.\n",
    "\n",
    "E.g. if shape is square, ensure kwargs has \"side\" and if so, then you may return the area, else display appropriate error message like \"Please enter 'side' for a square\""
   ]
  },
  {
   "cell_type": "code",
   "execution_count": 13,
   "metadata": {},
   "outputs": [
    {
     "name": "stdout",
     "output_type": "stream",
     "text": [
      "Calculate Shape Area\n",
      "The area of circle is: 6358.500000000001\n"
     ]
    }
   ],
   "source": [
    "# define a function for calculating\n",
    "# the area of a shapes\n",
    "def calculate_area(name):\n",
    "   \n",
    "  # converting all characters\n",
    "  # into lower cases\n",
    "  name = name.lower()\n",
    "   \n",
    "  # check for the conditions\n",
    "  if name == \"rectangle\":\n",
    "    l = int(input(\"Enter rectangle's length: \"))\n",
    "    b = int(input(\"Enter rectangle's breadth: \"))\n",
    "     \n",
    "    # calculate area of rectangle\n",
    "    rect_area = l * b\n",
    "    print(\"The area of rectangle is:\",rect_area)\n",
    "   \n",
    "  elif name == \"square\":\n",
    "    s = int(input(\"Enter square's side length: \"))\n",
    "       \n",
    "    # calculate area of square\n",
    "    sqt_area = s * s\n",
    "    print(\"The area of square is:\",sqt_area)\n",
    " \n",
    "  elif name == \"circle\":\n",
    "    r = int(input(\"Enter circle's radius length: \"))\n",
    "    pi = 3.14\n",
    "         \n",
    "    # calculate area of circle\n",
    "    circ_area = pi * r * r\n",
    "    print(\"The area of circle is:\",circ_area)\n",
    "  else:\n",
    "    print(\"Sorry! This shape is not available\")\n",
    " \n",
    "# driver code or main fuction intilization\n",
    "if __name__ == \"__main__\" :\n",
    "   \n",
    "  print(\"Calculate Shape Area\")\n",
    "  shape_name = input(\"Enter the name of shape whose area you want to find: \")\n",
    "   \n",
    "  # function calling\n",
    "  calculate_area(shape_name)"
   ]
  },
  {
   "cell_type": "raw",
   "metadata": {},
   "source": [
    "Q12: Write a UDF to reconcile the values within two lists.\n",
    "    l1 = ['January', 'February', 'March', 'May', 'June', 'September', 'December']\n",
    "    l2 = ['January', 'February', 'April', 'June', 'October', 'December']\n",
    "\n",
    "Hint:\n",
    "-----\n",
    "def func(l1, l2):\n",
    "    your code here...\n",
    "    \n",
    "Output:\n",
    "{'Matched': ['January', 'February', 'June', 'December'],\n",
    "    'Only in l1': ['March', 'May', 'September'],\n",
    "        'Only in l2': ['April', 'October']}"
   ]
  },
  {
   "cell_type": "code",
   "execution_count": 14,
   "metadata": {},
   "outputs": [
    {
     "data": {
      "text/plain": [
       "{'Matched': ['December', 'January', 'June', 'February'],\n",
       " 'only in l1': ['May', 'March', 'September'],\n",
       " 'only in l2': ['October', 'April']}"
      ]
     },
     "execution_count": 14,
     "metadata": {},
     "output_type": "execute_result"
    }
   ],
   "source": [
    "l1 = ['January', 'February', 'March', 'May', 'June', 'September', 'December']\n",
    "l2 = ['January', 'February', 'April', 'June', 'October', 'December']\n",
    "\n",
    "def my_func(l1,l2):\n",
    "    x=set(l1)\n",
    "    y=set(l2)\n",
    "    result = {}\n",
    "    result['Matched'] = list(x.intersection(y))\n",
    "    result['only in l1'] =list( x-y)\n",
    "    result['only in l2'] = list(y-x)\n",
    "    return result\n",
    "my_func(l1,l2)"
   ]
  },
  {
   "cell_type": "raw",
   "metadata": {
    "collapsed": true
   },
   "source": [
    "Q13: write a UDF to check if a number is prime or not."
   ]
  },
  {
   "cell_type": "code",
   "execution_count": 15,
   "metadata": {},
   "outputs": [
    {
     "name": "stdout",
     "output_type": "stream",
     "text": [
      "34 is not a prime number\n"
     ]
    }
   ],
   "source": [
    "# Program to check if a number is prime or not\n",
    "\n",
    "num = 29\n",
    "\n",
    "# To take input from the user\n",
    "num = int(input(\"Enter a number: \"))\n",
    "\n",
    "# define a flag variable\n",
    "flag = False\n",
    "\n",
    "if num == 1:\n",
    "    print(num, \"is not a prime number\")\n",
    "elif num > 1:\n",
    "    # check for factors\n",
    "    for i in range(2, num):\n",
    "        if (num % i) == 0:\n",
    "            # if factor is found, set flag to True\n",
    "            flag = True\n",
    "            # break out of loop\n",
    "            break\n",
    "\n",
    "    # check if flag is True\n",
    "    if flag:\n",
    "        print(num, \"is not a prime number\")\n",
    "    else:\n",
    "        print(num, \"is a prime number\")"
   ]
  },
  {
   "cell_type": "raw",
   "metadata": {
    "collapsed": true
   },
   "source": [
    "Q14. Write a program which can compute the factorial of a given numbers. \n",
    "#   The results should be printed in a comma-separated sequence on a single line. \n",
    "# input() function can be used for getting user(console) input\n",
    "\n",
    "\n",
    "#Suppose the input is supplied to the program:  8  \n",
    "#Then, the output should be:  40320 \n",
    "#Hints: In case of input data being supplied to the question, it should be assumed to be a console input. \n"
   ]
  },
  {
   "cell_type": "code",
   "execution_count": 16,
   "metadata": {},
   "outputs": [
    {
     "name": "stdout",
     "output_type": "stream",
     "text": [
      "87178291200\n"
     ]
    }
   ],
   "source": [
    "def factorial(n):\n",
    "    if n == 0:\n",
    "        return 1\n",
    "    else:\n",
    "        return n * factorial(n-1)\n",
    "\n",
    "# Test the program\n",
    "n = int(input(\"Enter a number: \"))\n",
    "print(factorial(n))"
   ]
  },
  {
   "cell_type": "raw",
   "metadata": {
    "collapsed": true
   },
   "source": [
    "Q15. With a given integral number n, write a program to generate a dictionary that contains (i, i*i) such that is an integral number between 1 and n (both included). and then the program should print the dictionary.\n",
    "\n",
    "#Suppose the following input is supplied to the program: 8\n",
    "#Then, the output should be: {1: 1, 2: 4, 3: 9, 4: 16, 5: 25, 6: 36, 7: 49, 8: 64}\n",
    "#Hints: In case of input data being supplied to the question, it should be assumed to be a console input. Consider using dict()\n",
    "\n"
   ]
  },
  {
   "cell_type": "code",
   "execution_count": 17,
   "metadata": {},
   "outputs": [
    {
     "name": "stdout",
     "output_type": "stream",
     "text": [
      "{1: 1, 2: 4, 3: 9, 4: 16, 5: 25, 6: 36, 7: 49, 8: 64, 9: 81, 10: 100, 11: 121, 12: 144, 13: 169, 14: 196, 15: 225, 16: 256, 17: 289, 18: 324}\n"
     ]
    }
   ],
   "source": [
    "def generate_dict(n):\n",
    "    result = {}\n",
    "    for i in range(1, n+1):\n",
    "        result[i] = i * i\n",
    "    return result\n",
    "\n",
    "# Test the program\n",
    "n = int(input(\"Enter a number: \"))\n",
    "output_dict = generate_dict(n)\n",
    "print(output_dict)"
   ]
  },
  {
   "cell_type": "raw",
   "metadata": {
    "collapsed": true
   },
   "source": [
    "Q16. Write a program which accepts a sequence of comma-separated numbers from console and generate a list and a tuple which contains every number.\n",
    "#Suppose the following input is supplied to the program: 34,67,55,33,12,98\n",
    "    #Then, the output should be: ['34', '67', '55', '33', '12', '98'] ('34', '67', '55', '33', '12', '98')\n",
    "\n",
    "#Hints: In case of input data being supplied to the question, it should be assumed to be a console input. you may use tuple() method to convert list to tuple\n"
   ]
  },
  {
   "cell_type": "code",
   "execution_count": 18,
   "metadata": {},
   "outputs": [
    {
     "name": "stdout",
     "output_type": "stream",
     "text": [
      "List:  ['23', '54', '78', '92', '35']\n",
      "Tuple:  ('23', '54', '78', '92', '35')\n"
     ]
    }
   ],
   "source": [
    "# Read a sequence of comma-separated numbers from the console\n",
    "input_numbers = input(\"Enter a sequence of comma-separated numbers: \")\n",
    "\n",
    "# Convert the input into a list and a tuple\n",
    "number_list = input_numbers.split(',')\n",
    "number_tuple = tuple(number_list)\n",
    "\n",
    "# Print the list and the tuple\n",
    "print(\"List: \", number_list)\n",
    "print(\"Tuple: \", number_tuple)"
   ]
  },
  {
   "cell_type": "raw",
   "metadata": {
    "collapsed": true
   },
   "source": [
    "Q17. Write a program that accepts a comma separated sequence of words as input and \n",
    "# prints the words in a comma-separated sequence after sorting them alphabetically.\n",
    "\n",
    "# Suppose the following input is supplied to the program: without,hello,bag,world\n",
    "# Then, the output should be: bag,hello,without,world\n",
    "\n",
    "#Hints: In case of input data being supplied to the question, it should be assumed to be a console input.\n"
   ]
  },
  {
   "cell_type": "code",
   "execution_count": 1,
   "metadata": {},
   "outputs": [
    {
     "name": "stdout",
     "output_type": "stream",
     "text": [
      "Sorted words:  mars,ostrich,saturn,zebra\n"
     ]
    }
   ],
   "source": [
    "# Read a sequence of comma-separated words from the console\n",
    "input_words = input(\"Enter a sequence of comma-separated words: \")\n",
    "\n",
    "# Convert the input into a list of words and sort them alphabetically\n",
    "word_list = sorted(input_words.split(','))\n",
    "\n",
    "# Join the sorted words into a single string separated by commas\n",
    "sorted_words = ','.join(word_list)\n",
    "\n",
    "# Print the sorted words\n",
    "print(\"Sorted words: \", sorted_words)"
   ]
  },
  {
   "cell_type": "raw",
   "metadata": {
    "collapsed": true
   },
   "source": [
    "Q18. Write a program that accepts a sequence of whitespace separated words \n",
    "# as input and prints the words after removing all duplicate words and sorting them alphanumerically.\n",
    "# Suppose the following input is supplied to the program: hello world and practice makes perfect and hello world again\n",
    "# Then, the output should be: again and hello makes perfect practice world\n",
    "\n",
    "#Hints: In case of input data being supplied to the question, it should be assumed to be a console input.\n",
    "#We use set container to remove duplicated data automatically and then use sorted() to sort the data.\n"
   ]
  },
  {
   "cell_type": "code",
   "execution_count": 20,
   "metadata": {},
   "outputs": [
    {
     "name": "stdout",
     "output_type": "stream",
     "text": [
      "Sorted words:  \"Brave\",\"Indian\",\"Leadership\"\n"
     ]
    }
   ],
   "source": [
    "# Read a sequence of whitespace separated words from the console\n",
    "input_words = input(\"Enter a sequence of whitespace separated words: \")\n",
    "\n",
    "# Convert the input into a list of words and sort them alphabetically\n",
    "word_list = sorted(input_words.split())\n",
    "\n",
    "# Join the sorted words into a single string separated by commas\n",
    "sorted_words = ','.join(word_list)\n",
    "\n",
    "# Print the sorted words\n",
    "print(\"Sorted words: \", sorted_words)"
   ]
  },
  {
   "cell_type": "raw",
   "metadata": {
    "collapsed": true
   },
   "source": [
    "Q19. Write a program that accepts a sentence and calculate the number of upper case \n",
    "# letters and lower case letters.\n",
    "#Suppose the following input is supplied to the program: Hello world!\n",
    "#Then, the output should be: UPPER CASE 1 LOWER CASE 9\n",
    "\n",
    "#Hints: In case of input data being supplied to the question, it should be assumed to be a console input.\n"
   ]
  },
  {
   "cell_type": "code",
   "execution_count": 21,
   "metadata": {},
   "outputs": [
    {
     "name": "stdout",
     "output_type": "stream",
     "text": [
      "UPPER CASE:  2\n",
      "LOWER CASE:  38\n"
     ]
    }
   ],
   "source": [
    "# Read a sentence from the console\n",
    "sentence = input(\"Enter a sentence: \")\n",
    "\n",
    "# Initialize counters for upper case and lower case letters\n",
    "upper_count = 0\n",
    "lower_count = 0\n",
    "\n",
    "# Iterate over each character in the sentence\n",
    "for char in sentence:\n",
    "    # Check if the character is an upper case letter\n",
    "    if char.isupper():\n",
    "        upper_count += 1\n",
    "    # Check if the character is a lower case letter\n",
    "    elif char.islower():\n",
    "        lower_count += 1\n",
    "\n",
    "# Print the results\n",
    "print(\"UPPER CASE: \", upper_count)\n",
    "print(\"LOWER CASE: \", lower_count)"
   ]
  },
  {
   "cell_type": "raw",
   "metadata": {
    "collapsed": true
   },
   "source": [
    "Q20. Write a program that takes a string and returns reversed string. i.e. if input is \"abcd123\" output should be \"321dcba\""
   ]
  },
  {
   "cell_type": "code",
   "execution_count": 22,
   "metadata": {},
   "outputs": [
    {
     "name": "stdout",
     "output_type": "stream",
     "text": [
      "Reversed string:  \"enoyrevE olleH\"\n"
     ]
    }
   ],
   "source": [
    "# Read a string from the console\n",
    "input_string = input(\"Enter a string: \")\n",
    "\n",
    "# Reverse the string\n",
    "reversed_string = input_string[::-1]\n",
    "\n",
    "# Print the reversed string\n",
    "print(\"Reversed string: \", reversed_string)"
   ]
  }
 ],
 "metadata": {
  "kernelspec": {
   "display_name": "Python 3",
   "language": "python",
   "name": "python3"
  },
  "language_info": {
   "codemirror_mode": {
    "name": "ipython",
    "version": 3
   },
   "file_extension": ".py",
   "mimetype": "text/x-python",
   "name": "python",
   "nbconvert_exporter": "python",
   "pygments_lexer": "ipython3",
   "version": "3.9.7"
  },
  "varInspector": {
   "cols": {
    "lenName": 16,
    "lenType": 16,
    "lenVar": 40
   },
   "kernels_config": {
    "python": {
     "delete_cmd_postfix": "",
     "delete_cmd_prefix": "del ",
     "library": "var_list.py",
     "varRefreshCmd": "print(var_dic_list())"
    },
    "r": {
     "delete_cmd_postfix": ") ",
     "delete_cmd_prefix": "rm(",
     "library": "var_list.r",
     "varRefreshCmd": "cat(var_dic_list()) "
    }
   },
   "types_to_exclude": [
    "module",
    "function",
    "builtin_function_or_method",
    "instance",
    "_Feature"
   ],
   "window_display": false
  }
 },
 "nbformat": 4,
 "nbformat_minor": 2
}
